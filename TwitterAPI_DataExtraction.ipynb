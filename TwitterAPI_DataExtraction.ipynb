{
 "cells": [
  {
   "cell_type": "code",
   "execution_count": 1,
   "metadata": {},
   "outputs": [],
   "source": [
    "# Basic Packages\n",
    "import requests\n",
    "import os\n",
    "import json\n",
    "\n",
    "# Data Preprocessing files\n",
    "import pandas as pd\n",
    "from pandas import json_normalize"
   ]
  },
  {
   "cell_type": "code",
   "execution_count": 2,
   "metadata": {},
   "outputs": [],
   "source": [
    "# To set your environment variables in your terminal run the following line:\n",
    "# export 'BEARER_TOKEN'=''\n",
    "bearer_token = \"YOUR API KEY\"#os.environ.get(\"BEARER_TOKEN\")\n",
    "\n",
    "search_url = \"https://api.twitter.com/2/tweets/search/recent\""
   ]
  },
  {
   "cell_type": "code",
   "execution_count": 3,
   "metadata": {},
   "outputs": [],
   "source": [
    "# Calling Twitter EndPoint\n",
    "def bearer_oauth(r):\n",
    "    \"\"\"\n",
    "    Method required by bearer token authentication.\n",
    "    \"\"\"\n",
    "\n",
    "    r.headers[\"Authorization\"] = f\"Bearer {bearer_token}\"\n",
    "    r.headers[\"User-Agent\"] = \"v2RecentSearchPython\"#\"v2RecentSearchPython\"\n",
    "    return r\n",
    "\n",
    "def connect_to_endpoint(url, params):\n",
    "    response = requests.get(url, auth=bearer_oauth, params=params)\n",
    "    #print(f\"URL:{response.url}\")\n",
    "    print(response.status_code)\n",
    "    if response.status_code != 200:\n",
    "        raise Exception(response.status_code, response.text)\n",
    "    return response.json()\n",
    "\n",
    "\n",
    "def main(query_params):\n",
    "    json_response = connect_to_endpoint(search_url, query_params)\n",
    "    return json.dumps(json_response, indent=4, sort_keys=True)"
   ]
  },
  {
   "cell_type": "code",
   "execution_count": 4,
   "metadata": {},
   "outputs": [],
   "source": [
    "# Convert Json to Pandas DataFrame\n",
    "def convert_json_to_df(tweet_response) -> pd.DataFrame:\n",
    "    # Your JSON string\n",
    "    json_string = ' '.join(tweet_response.split())\n",
    "\n",
    "    # Parse the JSON string\n",
    "    data = json.loads(json_string)\n",
    "\n",
    "    # Extract the \"data\" field which contains the list of tweet dictionaries\n",
    "    tweets = data[\"data\"]\n",
    "\n",
    "    # Convert the list of dictionaries to a DataFrame\n",
    "    df = pd.DataFrame(tweets)\n",
    "\n",
    "    return df "
   ]
  },
  {
   "cell_type": "markdown",
   "metadata": {},
   "source": [
    "# Candidate Names and Campaign - Related Terms"
   ]
  },
  {
   "cell_type": "code",
   "execution_count": 7,
   "metadata": {},
   "outputs": [],
   "source": [
    "# Optional params: start_time,end_time,since_id,until_id,max_results,next_token,\n",
    "# expansions,tweet.fields,media.fields,poll.fields,place.fields,user.fields\n",
    "query_params = {\n",
    "                'query': 'Mary Peltola OR \\\n",
    "                          Alaska House candidate OR \\\n",
    "                          House representative race Alaska OR \\\n",
    "                          Alaska state election OR\\\n",
    "                          U.S. House Alaska OR\\\n",
    "                          vote Alaska OR\\\n",
    "                          Alaska candidate debate  OR\\\n",
    "                          Alaska endorsement OR\\\n",
    "                          campaign rally Alaska ',\n",
    "                \"max_results\":10,\n",
    "                \"expansions\":\"geo.place_id\",\n",
    "                \"tweet.fields\":\"created_at\",\n",
    "                \"tweet.fields\": \"text\",\n",
    "                \"tweet.fields\": \"note_tweet\",\n",
    "                \"tweet.fields\": \"lang\",\n",
    "                \"place.fields\": \"country_code\",\n",
    "                \"place.fields\": \"full_name\",\n",
    "                \"place.fields\": \"geo\",\n",
    "                \"poll.fields\": \"duration_minutes\",\n",
    "                \"poll.fields\": \"end_datetime\",\n",
    "                \"poll.fields\": \"id\",\n",
    "                \"poll.fields\": \"options\",\n",
    "                \"poll.fields\": \"voting_status\",\n",
    "}"
   ]
  },
  {
   "cell_type": "code",
   "execution_count": 8,
   "metadata": {},
   "outputs": [
    {
     "name": "stdout",
     "output_type": "stream",
     "text": [
      "200\n"
     ]
    }
   ],
   "source": [
    "tweet_response = main(query_params=query_params)\n",
    "tweet_response_df = convert_json_to_df(tweet_response)"
   ]
  },
  {
   "cell_type": "code",
   "execution_count": 9,
   "metadata": {},
   "outputs": [],
   "source": [
    "tweet_response_df.to_csv(\"TAG_MARY_And_Campaign.csv\")"
   ]
  },
  {
   "cell_type": "code",
   "execution_count": 10,
   "metadata": {},
   "outputs": [],
   "source": [
    "# Optional params: start_time,end_time,since_id,until_id,max_results,next_token,\n",
    "# expansions,tweet.fields,media.fields,poll.fields,place.fields,user.fields\n",
    "query_params_nick = {\n",
    "                'query': 'Nick Begich OR \\\n",
    "                          Alaska House candidate OR \\\n",
    "                          House representative race Alaska OR \\\n",
    "                          Alaska state election OR\\\n",
    "                          U.S. House Alaska OR\\\n",
    "                          vote Alaska OR\\\n",
    "                          Alaska candidate debate  OR\\\n",
    "                          Alaska endorsement OR\\\n",
    "                          campaign rally Alaska ',\n",
    "                \"max_results\": 10,\n",
    "                \"tweet.fields\": \"created_at\",\n",
    "                \"tweet.fields\": \"text\",\n",
    "                \"tweet.fields\": \"note_tweet\",\n",
    "                \"tweet.fields\": \"lang\",\n",
    "                \"place.fields\": \"country_code\",\n",
    "                \"place.fields\": \"full_name\",\n",
    "                \"place.fields\": \"geo\",\n",
    "                \"poll.fields\": \"duration_minutes\",\n",
    "                \"poll.fields\": \"end_datetime\",\n",
    "                \"poll.fields\": \"id\",\n",
    "                \"poll.fields\": \"options\",\n",
    "                \"poll.fields\": \"voting_status\",\n",
    "}"
   ]
  },
  {
   "cell_type": "code",
   "execution_count": 11,
   "metadata": {},
   "outputs": [
    {
     "name": "stdout",
     "output_type": "stream",
     "text": [
      "200\n"
     ]
    }
   ],
   "source": [
    "tweet_response_nick = main(query_params=query_params_nick)\n",
    "tweet_response_nick_df = convert_json_to_df(tweet_response_nick)"
   ]
  },
  {
   "cell_type": "code",
   "execution_count": 12,
   "metadata": {},
   "outputs": [],
   "source": [
    "tweet_response_nick_df.to_csv(\"TAG_NICK_And_Campaign.csv\")"
   ]
  },
  {
   "cell_type": "markdown",
   "metadata": {},
   "source": [
    "# Issues and Policies Related to Alaska"
   ]
  },
  {
   "cell_type": "code",
   "execution_count": 34,
   "metadata": {},
   "outputs": [],
   "source": [
    "# Optional params: start_time,end_time,since_id,until_id,max_results,next_token,\n",
    "# expansions,tweet.fields,media.fields,poll.fields,place.fields,user.fields\n",
    "query_params_iss_pol = {\n",
    "                'query': 'Alaska climate change OR \\\n",
    "                          Alaska Arctic National Wildlife Refuge OR \\\n",
    "                          ANWR drilling OR \\\n",
    "                          Alaska oil exploration OR \\\n",
    "                          Alaska natural resources OR \\\n",
    "                          fisheries Alaska OR \\\n",
    "                          Alaska public lands OR \\\n",
    "                          Alaska clean energy ',\n",
    "                \"max_results\": 10,\n",
    "                \"tweet.fields\": \"author_id\",\n",
    "                \"tweet.fields\": \"context_annotations\",\n",
    "                \"tweet.fields\": \"author_id\",\n",
    "                \"tweet.fields\": \"text\",\n",
    "                \"tweet.fields\": \"entities\",\n",
    "                \"tweet.fields\": \"lang\",\n",
    "                \"place.fields\": \"country_code\",\n",
    "                \"place.fields\": \"full_name\",\n",
    "                \"place.fields\": \"geo\",\n",
    "                \"poll.fields\": \"duration_minutes\",\n",
    "                \"poll.fields\": \"end_datetime\",\n",
    "                \"poll.fields\": \"id\",\n",
    "                \"poll.fields\": \"options\",\n",
    "                \"poll.fields\": \"voting_status\",\n",
    "}"
   ]
  },
  {
   "cell_type": "code",
   "execution_count": 35,
   "metadata": {},
   "outputs": [
    {
     "name": "stdout",
     "output_type": "stream",
     "text": [
      "200\n"
     ]
    }
   ],
   "source": [
    "tweet_response_iss_pol = main(query_params=query_params_iss_pol)\n",
    "tweet_response_iss_pol_df = convert_json_to_df(tweet_response_iss_pol)"
   ]
  },
  {
   "cell_type": "code",
   "execution_count": 36,
   "metadata": {},
   "outputs": [],
   "source": [
    "tweet_response_iss_pol_df.to_csv(\"TAG_ISSUES_AND_POLICIES.csv\")"
   ]
  },
  {
   "cell_type": "markdown",
   "metadata": {},
   "source": [
    "# Indigenous and Rural Community Issues"
   ]
  },
  {
   "cell_type": "code",
   "execution_count": 13,
   "metadata": {},
   "outputs": [],
   "source": [
    "# Optional params: start_time,end_time,since_id,until_id,max_results,next_token,\n",
    "# expansions,tweet.fields,media.fields,poll.fields,place.fields,user.fields\n",
    "query_params_ind_rural = {\n",
    "                'query': 'Alaska indigenous rights OR \\\n",
    "                          Alaska tribal sovereignty OR \\\n",
    "                          native Alaskan OR \\\n",
    "                          Alaska rural development OR \\\n",
    "                          federal funding rural Alaska OR \\\n",
    "                          healthcare access rural areas',\n",
    "                \"max_results\": 10,\n",
    "                \"tweet.fields\": \"author_id\",\n",
    "                \"tweet.fields\": \"context_annotations\",\n",
    "                \"tweet.fields\": \"author_id\",\n",
    "                \"tweet.fields\": \"text\",\n",
    "                \"tweet.fields\": \"entities\",\n",
    "                \"tweet.fields\": \"lang\",\n",
    "                \"place.fields\": \"country_code\",\n",
    "                \"place.fields\": \"full_name\",\n",
    "                \"place.fields\": \"geo\",\n",
    "                \"poll.fields\": \"duration_minutes\",\n",
    "                \"poll.fields\": \"end_datetime\",\n",
    "                \"poll.fields\": \"id\",\n",
    "                \"poll.fields\": \"options\",\n",
    "                \"poll.fields\": \"voting_status\",\n",
    "}"
   ]
  },
  {
   "cell_type": "code",
   "execution_count": 14,
   "metadata": {},
   "outputs": [
    {
     "name": "stdout",
     "output_type": "stream",
     "text": [
      "200\n"
     ]
    }
   ],
   "source": [
    "tweet_response_ind_rural = main(query_params=query_params_ind_rural)\n",
    "tweet_response_ind_rural_df = convert_json_to_df(tweet_response_ind_rural)"
   ]
  },
  {
   "cell_type": "code",
   "execution_count": 15,
   "metadata": {},
   "outputs": [],
   "source": [
    "tweet_response_ind_rural_df.to_csv(\"TAG_INDIGENOUS_AND_RURAL_COMMUNITY.csv\")"
   ]
  },
  {
   "cell_type": "markdown",
   "metadata": {},
   "source": [
    "# Economic Policies"
   ]
  },
  {
   "cell_type": "code",
   "execution_count": 16,
   "metadata": {},
   "outputs": [],
   "source": [
    "# Optional params: start_time,end_time,since_id,until_id,max_results,next_token,\n",
    "# expansions,tweet.fields,media.fields,poll.fields,place.fields,user.fields\n",
    "query_params_econ_polic = {\n",
    "                'query': 'Alaska resource development OR \\\n",
    "                          Alaska oil jobs OR \\\n",
    "                          mining regulations Alaska OR \\\n",
    "                          Alaska Permanent Fund Dividend OR \\\n",
    "                          Alaska fishing industry OR \\\n",
    "                          Alaska sustainable tourism',\n",
    "                \"max_results\": 10,\n",
    "                \"tweet.fields\": \"author_id\",\n",
    "                \"tweet.fields\": \"context_annotations\",\n",
    "                \"tweet.fields\": \"author_id\",\n",
    "                \"tweet.fields\": \"text\",\n",
    "                \"tweet.fields\": \"entities\",\n",
    "                \"tweet.fields\": \"lang\",\n",
    "                \"place.fields\": \"country_code\",\n",
    "                \"place.fields\": \"full_name\",\n",
    "                \"place.fields\": \"geo\",\n",
    "                \"poll.fields\": \"duration_minutes\",\n",
    "                \"poll.fields\": \"end_datetime\",\n",
    "                \"poll.fields\": \"id\",\n",
    "                \"poll.fields\": \"options\",\n",
    "                \"poll.fields\": \"voting_status\",\n",
    "}"
   ]
  },
  {
   "cell_type": "code",
   "execution_count": 17,
   "metadata": {},
   "outputs": [
    {
     "name": "stdout",
     "output_type": "stream",
     "text": [
      "200\n"
     ]
    }
   ],
   "source": [
    "tweet_response_econ_polic = main(query_params=query_params_econ_polic)\n",
    "tweet_response_econ_polic_df = convert_json_to_df(tweet_response_econ_polic)"
   ]
  },
  {
   "cell_type": "code",
   "execution_count": 18,
   "metadata": {},
   "outputs": [],
   "source": [
    "tweet_response_econ_polic_df.to_csv(\"TAG_ECONOMIC_POLICIES.csv\")"
   ]
  },
  {
   "cell_type": "markdown",
   "metadata": {},
   "source": [
    "# Social Policies"
   ]
  },
  {
   "cell_type": "code",
   "execution_count": 19,
   "metadata": {},
   "outputs": [],
   "source": [
    "# Optional params: start_time,end_time,since_id,until_id,max_results,next_token,\n",
    "# expansions,tweet.fields,media.fields,poll.fields,place.fields,user.fields\n",
    "query_params_soc_polic = {\n",
    "                'query': 'gun rights Alaska OR \\\n",
    "                          second amendment Alaska OR \\\n",
    "                          public safety Alaska OR \\\n",
    "                          education funding Alasks OR \\\n",
    "                          mental health services Alaska',\n",
    "                \"max_results\": 10,\n",
    "                \"tweet.fields\": \"author_id\",\n",
    "                \"tweet.fields\": \"context_annotations\",\n",
    "                \"tweet.fields\": \"author_id\",\n",
    "                \"tweet.fields\": \"text\",\n",
    "                \"tweet.fields\": \"entities\",\n",
    "                \"tweet.fields\": \"lang\",\n",
    "                \"place.fields\": \"country_code\",\n",
    "                \"place.fields\": \"full_name\",\n",
    "                \"place.fields\": \"geo\",\n",
    "                \"poll.fields\": \"duration_minutes\",\n",
    "                \"poll.fields\": \"end_datetime\",\n",
    "                \"poll.fields\": \"id\",\n",
    "                \"poll.fields\": \"options\",\n",
    "                \"poll.fields\": \"voting_status\",\n",
    "}"
   ]
  },
  {
   "cell_type": "code",
   "execution_count": 20,
   "metadata": {},
   "outputs": [
    {
     "name": "stdout",
     "output_type": "stream",
     "text": [
      "200\n"
     ]
    }
   ],
   "source": [
    "tweet_response_soc_polic = main(query_params=query_params_soc_polic)\n",
    "tweet_response_soc_polic_df = convert_json_to_df(tweet_response_soc_polic)"
   ]
  },
  {
   "cell_type": "code",
   "execution_count": 21,
   "metadata": {},
   "outputs": [],
   "source": [
    "tweet_response_soc_polic_df.to_csv(\"TAG_SOCIAL_POLICIES.csv\")"
   ]
  },
  {
   "cell_type": "markdown",
   "metadata": {},
   "source": [
    "# Campaign Promises and Values"
   ]
  },
  {
   "cell_type": "code",
   "execution_count": 22,
   "metadata": {},
   "outputs": [],
   "source": [
    "# Optional params: start_time,end_time,since_id,until_id,max_results,next_token,\n",
    "# expansions,tweet.fields,media.fields,poll.fields,place.fields,user.fields\n",
    "query_params_camp_prom_val = {\n",
    "                'query': 'Alaskan values OR \\\n",
    "                          pro-freedom Alaska OR \\\n",
    "                          pro-economy Alaska OR \\\n",
    "                          pro-environment Alasks OR \\\n",
    "                          conservative Alaska OR \\\n",
    "                          progressive Alaska',\n",
    "                \"max_results\": 10,\n",
    "                \"tweet.fields\": \"author_id\",\n",
    "                \"tweet.fields\": \"context_annotations\",\n",
    "                \"tweet.fields\": \"author_id\",\n",
    "                \"tweet.fields\": \"text\",\n",
    "                \"tweet.fields\": \"entities\",\n",
    "                \"tweet.fields\": \"lang\",\n",
    "                \"place.fields\": \"country_code\",\n",
    "                \"place.fields\": \"full_name\",\n",
    "                \"place.fields\": \"geo\",\n",
    "                \"poll.fields\": \"duration_minutes\",\n",
    "                \"poll.fields\": \"end_datetime\",\n",
    "                \"poll.fields\": \"id\",\n",
    "                \"poll.fields\": \"options\",\n",
    "                \"poll.fields\": \"voting_status\",\n",
    "}"
   ]
  },
  {
   "cell_type": "code",
   "execution_count": 23,
   "metadata": {},
   "outputs": [
    {
     "name": "stdout",
     "output_type": "stream",
     "text": [
      "200\n"
     ]
    }
   ],
   "source": [
    "tweet_response_camp_prom_val = main(query_params=query_params_camp_prom_val)\n",
    "tweet_response_camp_prom_val_df = convert_json_to_df(tweet_response_camp_prom_val)"
   ]
  },
  {
   "cell_type": "code",
   "execution_count": 24,
   "metadata": {},
   "outputs": [],
   "source": [
    "tweet_response_camp_prom_val_df.to_csv(\"TAG_CAMPAIGN_PROMISES_VALUES.csv\")"
   ]
  },
  {
   "cell_type": "markdown",
   "metadata": {},
   "source": [
    "# Political Issues"
   ]
  },
  {
   "cell_type": "code",
   "execution_count": 32,
   "metadata": {},
   "outputs": [],
   "source": [
    "# Optional params: start_time,end_time,since_id,until_id,max_results,next_token,\n",
    "# expansions,tweet.fields,media.fields,poll.fields,place.fields,user.fields\n",
    "query_params_pol_issues = {\n",
    "                'query': 'voting rights Alaska OR \\\n",
    "                          healthcare reform Alaska OR \\\n",
    "                          infrastructure development Alaska OR \\\n",
    "                          cost of living Alaska',\n",
    "                \"max_results\": 10,\n",
    "                \"tweet.fields\": \"author_id\",\n",
    "                \"tweet.fields\": \"context_annotations\",\n",
    "                \"tweet.fields\": \"author_id\",\n",
    "                \"tweet.fields\": \"text\",\n",
    "                \"tweet.fields\": \"entities\",\n",
    "                \"tweet.fields\": \"lang\",\n",
    "                \"place.fields\": \"country_code\",\n",
    "                \"place.fields\": \"full_name\",\n",
    "                \"place.fields\": \"geo\",\n",
    "                \"poll.fields\": \"duration_minutes\",\n",
    "                \"poll.fields\": \"end_datetime\",\n",
    "                \"poll.fields\": \"id\",\n",
    "                \"poll.fields\": \"options\",\n",
    "                \"poll.fields\": \"voting_status\",\n",
    "}"
   ]
  },
  {
   "cell_type": "code",
   "execution_count": 33,
   "metadata": {},
   "outputs": [
    {
     "name": "stdout",
     "output_type": "stream",
     "text": [
      "200\n"
     ]
    }
   ],
   "source": [
    "tweet_response_pol_issues = main(query_params=query_params_pol_issues)\n",
    "tweet_response_pol_issues_df = convert_json_to_df(tweet_response_pol_issues)"
   ]
  },
  {
   "cell_type": "code",
   "execution_count": 34,
   "metadata": {},
   "outputs": [],
   "source": [
    "tweet_response_pol_issues_df.to_csv(\"TAG_POLITICAL_ISSUES.csv\")"
   ]
  },
  {
   "cell_type": "markdown",
   "metadata": {},
   "source": [
    "# Election Specific Terms"
   ]
  },
  {
   "cell_type": "code",
   "execution_count": 28,
   "metadata": {},
   "outputs": [],
   "source": [
    "# Optional params: start_time,end_time,since_id,until_id,max_results,next_token,\n",
    "# expansions,tweet.fields,media.fields,poll.fields,place.fields,user.fields\n",
    "query_params_election_terms = {\n",
    "                'query': 'voters Turnout Alaska OR \\\n",
    "                          mail-in ballots  Alaska OR \\\n",
    "                          absentee voting Alaska OR \\\n",
    "                          early voting Alaska OR\\\n",
    "                          polling location OR\\\n",
    "                          voting supresssion OR\\\n",
    "                          redistricting Alaska',\n",
    "                \"max_results\": 10,\n",
    "                \"tweet.fields\": \"author_id\",\n",
    "                \"tweet.fields\": \"context_annotations\",\n",
    "                \"tweet.fields\": \"author_id\",\n",
    "                \"tweet.fields\": \"text\",\n",
    "                \"tweet.fields\": \"entities\",\n",
    "                \"tweet.fields\": \"lang\",\n",
    "                \"place.fields\": \"country_code\",\n",
    "                \"place.fields\": \"full_name\",\n",
    "                \"place.fields\": \"geo\",\n",
    "                \"poll.fields\": \"duration_minutes\",\n",
    "                \"poll.fields\": \"end_datetime\",\n",
    "                \"poll.fields\": \"id\",\n",
    "                \"poll.fields\": \"options\",\n",
    "                \"poll.fields\": \"voting_status\",\n",
    "}"
   ]
  },
  {
   "cell_type": "code",
   "execution_count": 29,
   "metadata": {},
   "outputs": [
    {
     "name": "stdout",
     "output_type": "stream",
     "text": [
      "200\n"
     ]
    }
   ],
   "source": [
    "tweet_response_election_terms = main(query_params=query_params_election_terms)\n",
    "tweet_response_election_terms_df = convert_json_to_df(tweet_response_election_terms)"
   ]
  },
  {
   "cell_type": "code",
   "execution_count": 35,
   "metadata": {},
   "outputs": [],
   "source": [
    "tweet_response_election_terms_df.to_csv(\"TAG_ELECTION_SPECIFIC_TERMS.csv\")"
   ]
  },
  {
   "cell_type": "code",
   "execution_count": null,
   "metadata": {},
   "outputs": [],
   "source": []
  }
 ],
 "metadata": {
  "kernelspec": {
   "display_name": "Python 3",
   "language": "python",
   "name": "python3"
  },
  "language_info": {
   "codemirror_mode": {
    "name": "ipython",
    "version": 3
   },
   "file_extension": ".py",
   "mimetype": "text/x-python",
   "name": "python",
   "nbconvert_exporter": "python",
   "pygments_lexer": "ipython3",
   "version": "3.13.0"
  }
 },
 "nbformat": 4,
 "nbformat_minor": 2
}
