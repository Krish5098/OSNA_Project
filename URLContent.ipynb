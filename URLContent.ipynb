{
 "cells": [
  {
   "cell_type": "code",
   "execution_count": 11,
   "metadata": {},
   "outputs": [],
   "source": [
    "import requests\n",
    "from bs4 import BeautifulSoup\n",
    "import pandas as pd\n"
   ]
  },
  {
   "cell_type": "code",
   "execution_count": 6,
   "metadata": {},
   "outputs": [],
   "source": [
    "df = pd.read_csv(\"MediaSentimentData.csv\")"
   ]
  },
  {
   "cell_type": "code",
   "execution_count": 10,
   "metadata": {},
   "outputs": [
    {
     "name": "stdout",
     "output_type": "stream",
     "text": [
      "Failed to fetch https://www.the-independent.com/news/world/americas/us-politics/donald-trump-news-cabinet-picks-live-updates-b2649022.html, status code: 405\n",
      "Failed to fetch https://www.poynter.org/reporting-editing/2024/biden-80-million-votes-kamala-60-million-stolen-election/, status code: 403\n",
      "Failed to fetch https://viewfromthewing.com/ex-reality-tv-star-congressman-sean-duffy-chosen-as-transportation-secretary-what-it-means-for-airline-mergers-and-regulation/, status code: 403\n",
      "Failed to fetch http://skift.com/2024/11/18/trump-taps-former-rep-sean-duffy-for-transportation-secreatary/, status code: 403\n",
      "Failed to fetch https://viewfromthewing.com/heres-what-we-know-a-trump-administration-will-mean-for-travel/, status code: 403\n",
      "Failed to fetch http://skift.com/2024/11/04/election-2024-the-issues-that-matter-for-travel/, status code: 403\n",
      "Failed to fetch https://liveandletsfly.com/trump-victory-airlines/, status code: 403\n",
      "Failed to fetch https://www.newsweek.com/donald-trump-ally-suggests-trying-purchase-greenland-again-1982720, status code: 403\n",
      "Failed to fetch https://www.ibtimes.com/donald-trump-old-social-media-posts-elon-musk-3751047, status code: 403\n",
      "Failed to fetch https://www.ibtimes.com/win-vote-still-lose-behold-americas-electoral-college-3749417, status code: 403\n",
      "Failed to fetch https://sciencebasedmedicine.org/antivaxxers-grifters-and-quacks-rfk-jr-s-maha-takes-over-federal-health-agencies/, status code: 403\n",
      "Failed to fetch https://www.paddleyourownkanoo.com/2024/11/19/president-elect-donald-trump-taps-reality-television-star-and-fox-news-pundit-as-transportation-secretary/, status code: 403\n",
      "Failed to fetch https://www.poynter.org/reporting-editing/2024/biden-80-million-votes-kamala-60-million-stolen-election/, status code: 403\n",
      "Failed to fetch http://skift.com/2024/11/04/election-2024-the-issues-that-matter-for-travel/, status code: 403\n",
      "Failed to fetch https://www.newsweek.com/kamala-harris-electoral-college-result-worse-hillary-clinton-2024-election-donald-trump-1981331, status code: 403\n",
      "Failed to fetch https://www.newsweek.com/four-swing-states-shifted-toward-kamala-harris-final-week-nate-silver-1979543, status code: 403\n",
      "Error fetching https://www.cbc.ca/news/indigenous/indigenous-representation-u-s-election-1.7378949: HTTPSConnectionPool(host='www.cbc.ca', port=443): Read timed out. (read timeout=10)\n",
      "Failed to fetch https://foreignpolicy.com/2024/11/04/trump-harris-election-mcdonalds-rally-north-carolina/, status code: 403\n",
      "Error fetching https://www.cbc.ca/news/world/us-election-voting-day-how-to-see-results-1.7373406: HTTPSConnectionPool(host='www.cbc.ca', port=443): Read timed out. (read timeout=10)\n",
      "Failed to fetch https://www.newsweek.com/what-time-polls-open-my-state-map-2024-election-1980439, status code: 403\n",
      "Failed to fetch https://www.newsweek.com/alejandro-mayorkas-homeland-security-testify-1989644, status code: 403\n",
      "Failed to fetch https://liveandletsfly.com/election-fallout-what-could-change-in-us-travel/, status code: 403\n",
      "Failed to fetch https://www.ibtimes.com/win-vote-still-lose-behold-americas-electoral-college-3749417, status code: 403\n",
      "Failed to fetch https://thefederalist.com/2024/11/06/democrat-media-call-the-race-for-trump-so-we-can-all-go-to-bed/, status code: 403\n",
      "Failed to fetch https://decider.com/2024/11/05/when-does-election-coverage-start-watch-2024-presidential-election/, status code: 403\n",
      "Failed to fetch https://www.newsweek.com/ivan-moore-predicts-ted-cruz-lose-colin-allred-texas-senate-1979102, status code: 403\n",
      "Failed to fetch https://www.newsweek.com/voter-turnout-count-claims-map-election-1981645, status code: 403\n",
      "Failed to fetch https://www.newsweek.com/election-2024-live-updates-donald-trump-wins-us-president-11-06-24-1981161, status code: 403\n",
      "Failed to fetch https://www.counterpunch.org/2024/11/15/the-democrats-deserved-to-lose-1000-times-over/, status code: 403\n",
      "Failed to fetch https://www.rawstory.com/we-are-unafraid-in-face-of-trump-win-champions-of-working-class-vow-epic-fight/, status code: 403\n",
      "Failed to fetch https://www.counterpunch.org/2024/11/08/the-crack-up/, status code: 403\n",
      "Failed to fetch https://cleantechnica.com/2024/11/07/fossil-gas-shortage-tells-us-alaska-should-turn-to-renewable-energy/, status code: 403\n",
      "Failed to fetch https://www.theamericanconservative.com/trumps-silver-bullet/, status code: 403\n",
      "Failed to fetch https://www.rawstory.com/we-are-unafraid-in-face-of-trump-win-champions-of-working-class-vow-epic-fight/, status code: 403\n",
      "Failed to fetch https://nationalinterest.org/feature/how-america-lost-arctic-213682, status code: 403\n",
      "Failed to fetch https://www.counterpunch.org/2024/11/22/should-we-have-wolves-or-livestock-on-public-lands/, status code: 403\n",
      "Failed to fetch https://warontherocks.com/2024/11/more-nato-in-the-arctic-could-free-the-united-states-up-to-focus-on-china/, status code: 403\n",
      "Failed to fetch https://financialpost.com/pmn/business-pmn/from-oil-to-evs-heres-what-a-trump-victory-means-for-energy, status code: 403\n",
      "Failed to fetch https://www.commondreams.org/news/democrats-or-republicans-better-for-economy, status code: 403\n",
      "Failed to fetch https://www.counterpunch.org/2024/11/08/the-crack-up/, status code: 403\n",
      "Failed to fetch https://www.counterpunch.org/2024/11/07/bidens-tardy-apology-to-american-indigenous-peoples/, status code: 403\n",
      "Failed to fetch https://www.rigzone.com/news/wire/from_oil_to_evs_trump_return_set_to_shake_up_energy_policy-07-nov-2024-178671-article/, status code: 403\n",
      "Failed to fetch https://financialpost.com/pmn/business-pmn/america-first-heres-who-trump-may-tap-for-national-security, status code: 403\n",
      "Failed to fetch https://abcnews.go.com/Business/wireStory/carbon-pollution-high-flying-rich-private-jets-soars-115606615, status code: 404\n",
      "Failed to fetch https://foreignpolicy.com/2024/11/11/us-arctic-strategy-china-russia-alaska-geopolitics/, status code: 403\n",
      "Failed to fetch https://bookriot.com/prepare-your-library-before-january/, status code: 403\n",
      "Failed to fetch https://www.sciencedaily.com/releases/2024/11/241112191005.htm, status code: 403\n",
      "Failed to fetch https://truthout.org/articles/amid-legacies-of-colonial-and-anti-trans-harm-two-spirits-struggle-for-safety/, status code: 403\n",
      "Failed to fetch https://warontherocks.com/2024/11/more-nato-in-the-arctic-could-free-the-united-states-up-to-focus-on-china/, status code: 403\n",
      "Failed to fetch https://www.counterpunch.org/2024/11/07/bidens-tardy-apology-to-american-indigenous-peoples/, status code: 403\n",
      "Failed to fetch https://thehill.com/homenews/senate/4993818-trump-cabinet-potential-obstacles/, status code: 403\n",
      "Failed to fetch https://www.newsweek.com/map-shows-americas-richest-people-1963919, status code: 403\n",
      "Failed to fetch https://www.rawstory.com/we-are-unafraid-in-face-of-trump-win-champions-of-working-class-vow-epic-fight/, status code: 403\n",
      "Failed to fetch https://www.commondreams.org/news/democrats-or-republicans-better-for-economy, status code: 403\n",
      "Failed to fetch https://www.the-independent.com/news/world/americas/us-politics/donald-trump-news-cabinet-picks-live-updates-b2649022.html, status code: 405\n",
      "Error fetching https://www.cbc.ca/news/indigenous/indigenous-representation-u-s-election-1.7378949: HTTPSConnectionPool(host='www.cbc.ca', port=443): Read timed out. (read timeout=10)\n",
      "Failed to fetch https://www.ibtimes.com/win-vote-still-lose-behold-americas-electoral-college-3749417, status code: 403\n",
      "Failed to fetch https://www.newsweek.com/four-swing-states-shifted-toward-kamala-harris-final-week-nate-silver-1979543, status code: 403\n",
      "Failed to fetch https://www.rawstory.com/we-are-unafraid-in-face-of-trump-win-champions-of-working-class-vow-epic-fight/, status code: 403\n",
      "Failed to fetch https://decider.com/2024/11/05/when-does-election-coverage-start-watch-2024-presidential-election/, status code: 403\n",
      "Failed to fetch https://www.digitaljournal.com/world/win-the-vote-but-still-lose-behold-americas-electoral-college/article, status code: 403\n",
      "Failed to fetch https://www.counterpunch.org/2024/11/08/the-crack-up/, status code: 403\n",
      "Failed to fetch https://thehill.com/homenews/senate/4993818-trump-cabinet-potential-obstacles/, status code: 403\n",
      "Failed to fetch https://www.commondreams.org/news/democrats-or-republicans-better-for-economy, status code: 403\n",
      "Failed to fetch https://www.ibtimes.com.au/win-vote-still-lose-behold-americas-electoral-college-1853089, status code: 403\n",
      "Failed to fetch https://roanoke.com/news/nation-world/government-politics/election-monitors-republican-states/article_9ee3cc4f-b43e-5d2e-a6f3-19be9446cac6.html, status code: 429\n",
      "Failed to fetch https://msmagazine.com/2024/11/22/politics-women-representation-electing-woman-president-twitter-ranked-choice-voting-alaska/, status code: 403\n",
      "Failed to fetch  https://en.setopati.com/International/163913 , status code: 404\n",
      "Failed to fetch https://venturebeat.com/ai/pivoting-in-politics-tech-antitrust-and-economic-growth-gary-shapiro-interview/, status code: 403\n",
      "Failed to fetch https://consent.yahoo.com/v2/collectConsent?sessionId=1_cc-session_74db777c-a9c4-47ef-9d41-f1ab66b457e9, status code: 401\n",
      "Failed to fetch https://phys.org/news/2024-11-socioeconomic-status-racial-ethnic-gaps.html, status code: 400\n",
      "Failed to fetch https://springwise.com/innovation/sustainability/indigenous-groups-create-a-regenerative-amazon-bioeconomy/, status code: 403\n",
      "Failed to fetch https://www.theregister.com/2024/11/06/arecibo_telescope_failure_analysis/, status code: 403\n",
      "Failed to fetch https://leiterreports.typepad.com/blog/2024/11/how-trump-can-attack-higher-education.html, status code: 403\n",
      "Error fetching https://www.cbc.ca/news/canada/post-secondary-cuts-1.7387175: HTTPSConnectionPool(host='www.cbc.ca', port=443): Read timed out. (read timeout=10)\n",
      "Failed to fetch https://www.advocate.com/news/south-carolina-transgender-bathroom-lawsuit, status code: 403\n",
      "Failed to fetch https://consent.yahoo.com/v2/collectConsent?sessionId=1_cc-session_fadf2ee3-95cc-407c-bf64-862a67d3f20f, status code: 401\n",
      "Failed to fetch https://consent.yahoo.com/v2/collectConsent?sessionId=1_cc-session_645eee93-4f9f-452c-b766-03792f0afadd, status code: 401\n",
      "Failed to fetch https://venturebeat.com/data-infrastructure/anomalo-aims-to-accelerate-deployment-of-enterprise-ai-by-30-with-unstructured-data-quality-monitoring/, status code: 403\n"
     ]
    }
   ],
   "source": [
    "import requests\n",
    "from bs4 import BeautifulSoup\n",
    "import pandas as pd\n",
    "\n",
    "def download_html(url):\n",
    "    try:\n",
    "        response = requests.get(url, timeout=10)\n",
    "        if response.status_code == 200:\n",
    "            return response.text\n",
    "        else:\n",
    "            print(f\"Failed to fetch {url}, status code: {response.status_code}\")\n",
    "            return None\n",
    "    except requests.exceptions.RequestException as e:\n",
    "        print(f\"Error fetching {url}: {e}\")\n",
    "        return None\n",
    "\n",
    "# Add HTML content column to the DataFrame\n",
    "df['html_content'] = df['url'].apply(download_html)"
   ]
  },
  {
   "cell_type": "code",
   "execution_count": 15,
   "metadata": {},
   "outputs": [],
   "source": [
    "def extract_article_content(html):\n",
    "    try:\n",
    "        soup = BeautifulSoup(html, 'html.parser')\n",
    "        # Identify the main content section. This might vary depending on the website's structure.\n",
    "        # Common tags/classes used for articles:\n",
    "        article = soup.find('article')  # Look for <article> tag\n",
    "        if not article:\n",
    "            # Fallback to other heuristics if <article> tag isn't available\n",
    "            article = soup.find('div', {'class': 'main-content'}) or soup.find('div', {'class': 'content'})\n",
    "\n",
    "        # Extract text content\n",
    "        return article.get_text(strip=True) if article else \"Content not found\"\n",
    "    except Exception as e:\n",
    "        print(f\"Error parsing HTML: {e}\")\n",
    "        return \"Parsing error\"\n",
    "\n",
    "# Add extracted content column\n",
    "df['article_content'] = df['html_content'].apply(lambda html: extract_article_content(html) if html else \"No HTML\")\n"
   ]
  },
  {
   "cell_type": "code",
   "execution_count": 21,
   "metadata": {},
   "outputs": [
    {
     "data": {
      "text/plain": [
       "(269, 11)"
      ]
     },
     "execution_count": 21,
     "metadata": {},
     "output_type": "execute_result"
    }
   ],
   "source": [
    "df[df[\"article_content\"]==\"Content not found\"].shape"
   ]
  },
  {
   "cell_type": "code",
   "execution_count": 32,
   "metadata": {},
   "outputs": [],
   "source": [
    "df = df[~(df[\"article_content\"]==\"Content not found\")].drop(\"Unnamed: 0\", axis = 1).reset_index(drop = True)"
   ]
  },
  {
   "cell_type": "code",
   "execution_count": 33,
   "metadata": {},
   "outputs": [],
   "source": [
    "df.to_csv(\"MediaSentimentData_Processed.csv\")"
   ]
  },
  {
   "cell_type": "code",
   "execution_count": null,
   "metadata": {},
   "outputs": [],
   "source": []
  }
 ],
 "metadata": {
  "kernelspec": {
   "display_name": "Python 3",
   "language": "python",
   "name": "python3"
  },
  "language_info": {
   "codemirror_mode": {
    "name": "ipython",
    "version": 3
   },
   "file_extension": ".py",
   "mimetype": "text/x-python",
   "name": "python",
   "nbconvert_exporter": "python",
   "pygments_lexer": "ipython3",
   "version": "3.13.0"
  }
 },
 "nbformat": 4,
 "nbformat_minor": 2
}
